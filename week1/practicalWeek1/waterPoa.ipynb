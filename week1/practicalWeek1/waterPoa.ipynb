{
 "cells": [
  {
   "cell_type": "markdown",
   "metadata": {},
   "source": [
    "# Import libraries"
   ]
  },
  {
   "cell_type": "code",
   "execution_count": 2,
   "metadata": {},
   "outputs": [],
   "source": [
    "import pandas as pd"
   ]
  },
  {
   "cell_type": "markdown",
   "metadata": {},
   "source": [
    "# Read csv file"
   ]
  },
  {
   "cell_type": "code",
   "execution_count": 3,
   "metadata": {},
   "outputs": [],
   "source": [
    "dataSet = pd.read_csv('water_potability.csv')"
   ]
  },
  {
   "cell_type": "markdown",
   "metadata": {},
   "source": [
    "# How many columns and rows at dataset"
   ]
  },
  {
   "cell_type": "code",
   "execution_count": 4,
   "metadata": {},
   "outputs": [
    {
     "name": "stdout",
     "output_type": "stream",
     "text": [
      "Rows: 3276, Columns: 10\n"
     ]
    }
   ],
   "source": [
    "rows, columns = dataSet.shape\n",
    "print(f\"Rows: {rows}, Columns: {columns}\")"
   ]
  },
  {
   "cell_type": "markdown",
   "metadata": {},
   "source": [
    "# Identify the features and the dependent variable (name and their types)"
   ]
  },
  {
   "cell_type": "code",
   "execution_count": 5,
   "metadata": {},
   "outputs": [
    {
     "name": "stdout",
     "output_type": "stream",
     "text": [
      "name: ph and types: float64\n",
      "name: Hardness and types: float64\n",
      "name: Solids and types: float64\n",
      "name: Chloramines and types: float64\n",
      "name: Sulfate and types: float64\n",
      "name: Conductivity and types: float64\n",
      "name: Organic_carbon and types: float64\n",
      "name: Trihalomethanes and types: float64\n",
      "name: Turbidity and types: float64\n"
     ]
    }
   ],
   "source": [
    "featuresColumnsHeaders = dataSet.columns[:-1]\n",
    "for col in featuresColumnsHeaders:\n",
    "    print(f\"name: {col} and types: {dataSet[col].dtype}\")"
   ]
  },
  {
   "cell_type": "code",
   "execution_count": 7,
   "metadata": {},
   "outputs": [
    {
     "name": "stdout",
     "output_type": "stream",
     "text": [
      "Target Column Header: Potability and types: int64\n"
     ]
    }
   ],
   "source": [
    "targetColumnHeader = dataSet.columns[-1]\n",
    "print(f\"Target Column Header: {targetColumnHeader} and types: {dataSet[targetColumnHeader].dtype}\")"
   ]
  }
 ],
 "metadata": {
  "kernelspec": {
   "display_name": "env_c_w1",
   "language": "python",
   "name": "python3"
  },
  "language_info": {
   "codemirror_mode": {
    "name": "ipython",
    "version": 3
   },
   "file_extension": ".py",
   "mimetype": "text/x-python",
   "name": "python",
   "nbconvert_exporter": "python",
   "pygments_lexer": "ipython3",
   "version": "3.8.18"
  }
 },
 "nbformat": 4,
 "nbformat_minor": 2
}
