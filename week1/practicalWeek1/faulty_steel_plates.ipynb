{
 "cells": [
  {
   "cell_type": "markdown",
   "metadata": {},
   "source": [
    "# Import libraries"
   ]
  },
  {
   "cell_type": "code",
   "execution_count": 1,
   "metadata": {},
   "outputs": [],
   "source": [
    "import pandas as pd"
   ]
  },
  {
   "cell_type": "markdown",
   "metadata": {},
   "source": [
    "# Read csv file"
   ]
  },
  {
   "cell_type": "code",
   "execution_count": 2,
   "metadata": {},
   "outputs": [],
   "source": [
    "dataSet = pd.read_csv('faults.csv')"
   ]
  },
  {
   "cell_type": "markdown",
   "metadata": {},
   "source": [
    "# How many columns and rows at dataset"
   ]
  },
  {
   "cell_type": "code",
   "execution_count": 6,
   "metadata": {},
   "outputs": [
    {
     "name": "stdout",
     "output_type": "stream",
     "text": [
      "Number of rows: 1941\n",
      "Number of columns: 34\n"
     ]
    }
   ],
   "source": [
    "rows, columns = dataSet.shape\n",
    "print(f\"Number of rows: {rows}\")\n",
    "print(f\"Number of columns: {columns}\")"
   ]
  },
  {
   "cell_type": "markdown",
   "metadata": {},
   "source": [
    "# What are the columns names and their types"
   ]
  },
  {
   "cell_type": "code",
   "execution_count": 9,
   "metadata": {},
   "outputs": [
    {
     "name": "stdout",
     "output_type": "stream",
     "text": [
      "name: X_Minimum and types: int64\n",
      "name: X_Maximum and types: int64\n",
      "name: Y_Minimum and types: int64\n",
      "name: Y_Maximum and types: int64\n",
      "name: Pixels_Areas and types: int64\n",
      "name: X_Perimeter and types: int64\n",
      "name: Y_Perimeter and types: int64\n",
      "name: Sum_of_Luminosity and types: int64\n",
      "name: Minimum_of_Luminosity and types: int64\n",
      "name: Maximum_of_Luminosity and types: int64\n",
      "name: Length_of_Conveyer and types: int64\n",
      "name: TypeOfSteel_A300 and types: int64\n",
      "name: TypeOfSteel_A400 and types: int64\n",
      "name: Steel_Plate_Thickness and types: int64\n",
      "name: Edges_Index and types: float64\n",
      "name: Empty_Index and types: float64\n",
      "name: Square_Index and types: float64\n",
      "name: Outside_X_Index and types: float64\n",
      "name: Edges_X_Index and types: float64\n",
      "name: Edges_Y_Index and types: float64\n",
      "name: Outside_Global_Index and types: float64\n",
      "name: LogOfAreas and types: float64\n",
      "name: Log_X_Index and types: float64\n",
      "name: Log_Y_Index and types: float64\n",
      "name: Orientation_Index and types: float64\n",
      "name: Luminosity_Index and types: float64\n",
      "name: SigmoidOfAreas and types: float64\n",
      "name: Pastry and types: int64\n",
      "name: Z_Scratch and types: int64\n",
      "name: K_Scatch and types: int64\n",
      "name: Stains and types: int64\n",
      "name: Dirtiness and types: int64\n",
      "name: Bumps and types: int64\n",
      "name: Other_Faults and types: int64\n"
     ]
    }
   ],
   "source": [
    "ColumnsHeader = dataSet.columns[:]\n",
    "for col in featuresColumnsHeader:\n",
    "    print(f\"name: {col} and types: {dataSet[col].dtype}\")"
   ]
  }
 ],
 "metadata": {
  "kernelspec": {
   "display_name": "env_c_w1",
   "language": "python",
   "name": "python3"
  },
  "language_info": {
   "codemirror_mode": {
    "name": "ipython",
    "version": 3
   },
   "file_extension": ".py",
   "mimetype": "text/x-python",
   "name": "python",
   "nbconvert_exporter": "python",
   "pygments_lexer": "ipython3",
   "version": "3.8.18"
  }
 },
 "nbformat": 4,
 "nbformat_minor": 2
}
