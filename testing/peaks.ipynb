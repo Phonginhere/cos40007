{
 "cells": [
  {
   "cell_type": "code",
   "execution_count": 1,
   "metadata": {},
   "outputs": [
    {
     "name": "stdout",
     "output_type": "stream",
     "text": [
      "The original list is : [1, 2, 4, 2, 6, 7, 8, 3]\n",
      "Peaks and Valleys count : 3\n"
     ]
    }
   ],
   "source": [
    "\n",
    "# initializing list\n",
    "test_list = [1, 2, 4, 2, 6, 7, 8, 3]\n",
    " \n",
    "# printing original list\n",
    "print(\"The original list is : \" + str(test_list))\n",
    " \n",
    "res = 0\n",
    "for idx in range(1, len(test_list) - 1):\n",
    "    if test_list[idx + 1] > test_list[idx] < test_list[idx - 1] or test_list[idx + 1] < test_list[idx] > test_list[idx - 1]:\n",
    "        res += 1\n",
    " \n",
    "# printing result\n",
    "print(\"Peaks and Valleys count : \" + str(res))"
   ]
  }
 ],
 "metadata": {
  "kernelspec": {
   "display_name": "Python 3",
   "language": "python",
   "name": "python3"
  },
  "language_info": {
   "codemirror_mode": {
    "name": "ipython",
    "version": 3
   },
   "file_extension": ".py",
   "mimetype": "text/x-python",
   "name": "python",
   "nbconvert_exporter": "python",
   "pygments_lexer": "ipython3",
   "version": "3.12.4"
  }
 },
 "nbformat": 4,
 "nbformat_minor": 2
}
